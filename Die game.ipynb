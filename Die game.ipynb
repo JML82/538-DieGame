{
 "cells": [
  {
   "cell_type": "markdown",
   "metadata": {},
   "source": [
    "### This is a solution to the Riddler Classic from five-thirty-eight (Mar 27, 2020)\n",
    "You start with a fair 6-sided die and roll it six times, recording the results of each roll. You then write these numbers on the six faces of another, unlabeled fair die. For example, if your six rolls were 3, 5, 3, 6, 1 and 2, then your second die wouldn’t have a 4 on it; instead, it would have two 3s.\n",
    "\n",
    "Next, you roll this second die six times. You take those six numbers and write them on the faces of yet another fair die, and you continue this process of generating a new die from the previous one.\n",
    "\n",
    "Eventually, you’ll have a die with the same number on all six faces. What is the average number of rolls it will take to reach this state?\n",
    "\n",
    "Extra credit: Instead of a standard 6-sided die, suppose you have an N-sided die, whose sides are numbered from 1 to N. What is the average number of rolls it would take until all N sides show the same number?\n",
    "\n",
    "https://fivethirtyeight.com/features/can-you-get-the-gloves-out-of-the-box/"
   ]
  },
  {
   "cell_type": "code",
   "execution_count": 1,
   "metadata": {},
   "outputs": [],
   "source": [
    "# import modules\n",
    "import numpy as np\n",
    "import matplotlib.pyplot as plt\n",
    "import seaborn as sns"
   ]
  },
  {
   "cell_type": "code",
   "execution_count": 2,
   "metadata": {},
   "outputs": [],
   "source": [
    "def die_game(no_of_sides, sims=1):\n",
    "    \n",
    "    # initialise list that will contain total number of rounds needed to meet required condition\n",
    "    total_rounds = []\n",
    "    # run for loop for required number of simulations\n",
    "    for sim in range(sims):         \n",
    "        # initialise a die and the no of rounds to zero\n",
    "        die_values = list(range(1, (no_of_sides + 1)))\n",
    "        no_of_rounds = 0        \n",
    "        # then start a while loop that breaks when final the condition met\n",
    "        while True:\n",
    "            roll_results = []\n",
    "            for x in range(no_of_sides):\n",
    "                roll = np.random.choice(die_values)\n",
    "                roll_results.append(roll)\n",
    "            die_values = roll_results\n",
    "            no_of_rounds += 1\n",
    "            if all(elem == die_values[0] for elem in die_values):\n",
    "                total_rounds.append(no_of_rounds)\n",
    "                break\n",
    "    return total_rounds"
   ]
  },
  {
   "cell_type": "code",
   "execution_count": 7,
   "metadata": {},
   "outputs": [
    {
     "name": "stdout",
     "output_type": "stream",
     "text": [
      "9.64979\n"
     ]
    }
   ],
   "source": [
    "# plot a histogram of the results for a six sides die, with 100k simulations\n",
    "total_rounds = die_game(6, 100000)\n",
    "print(np.mean(total_rounds))"
   ]
  },
  {
   "cell_type": "code",
   "execution_count": 21,
   "metadata": {
    "scrolled": true
   },
   "outputs": [
    {
     "data": {
      "image/png": "[encoded data removed]",
      "text/plain": [
       "<Figure size 432x288 with 1 Axes>"
      ]
     },
     "metadata": {},
     "output_type": "display_data"
    },
    {
     "name": "stdout",
     "output_type": "stream",
     "text": [
      "100000\n"
     ]
    }
   ],
   "source": [
    "# plot the results of the above simulation\n",
    "sns.set_style('ticks')\n",
    "sns.distplot(total_rounds, bins = 90, kde = False)\n",
    "sns.despine(top = True, right = True)\n",
    "plt.xlabel(\"rounds\")\n",
    "plt.ylabel(\"count\")\n",
    "plt.title(\"Rounds to complete for six-sided die\")\n",
    "plt.show()"
   ]
  },
  {
   "cell_type": "code",
   "execution_count": 5,
   "metadata": {},
   "outputs": [
    {
     "name": "stdout",
     "output_type": "stream",
     "text": [
      "The average number of rounds to finish with a 2 sided die is 1.9805\n",
      "\n",
      "The average number of rounds to finish with a 3 sided die is 3.8462\n",
      "\n",
      "The average number of rounds to finish with a 4 sided die is 5.8047\n",
      "\n",
      "The average number of rounds to finish with a 5 sided die is 7.6809\n",
      "\n",
      "The average number of rounds to finish with a 6 sided die is 9.6426\n",
      "\n",
      "The average number of rounds to finish with a 7 sided die is 11.6547\n",
      "\n",
      "The average number of rounds to finish with a 8 sided die is 13.4598\n",
      "\n",
      "The average number of rounds to finish with a 9 sided die is 15.4882\n",
      "\n",
      "The average number of rounds to finish with a 10 sided die is 17.3941\n",
      "\n"
     ]
    }
   ],
   "source": [
    "# run the simulation for dies having between two and ten sides to see what the results look like\n",
    "sides = [2, 3, 4, 5, 6, 7, 8, 9, 10]\n",
    "for x in sides:\n",
    "    total_rounds = die_game(x, 10000)\n",
    "    print(\"The average number of rounds to finish with a \" + str(x) + \" sided die is \" + str(np.mean(total_rounds)) + \"\\n\")"
   ]
  }
 ],
 "metadata": {
  "kernelspec": {
   "display_name": "Python 3",
   "language": "python",
   "name": "python3"
  },
  "language_info": {
   "codemirror_mode": {
    "name": "ipython",
    "version": 3
   },
   "file_extension": ".py",
   "mimetype": "text/x-python",
   "name": "python",
   "nbconvert_exporter": "python",
   "pygments_lexer": "ipython3",
   "version": "3.6.5"
  }
 },
 "nbformat": 4,
 "nbformat_minor": 2
}
